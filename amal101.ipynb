{
 "cells": [
  {
   "cell_type": "code",
   "execution_count": 1,
   "id": "00ea0b4f",
   "metadata": {
    "_cell_guid": "b1076dfc-b9ad-4769-8c92-a6c4dae69d19",
    "_uuid": "8f2839f25d086af736a60e9eeb907d3b93b6e0e5",
    "execution": {
     "iopub.execute_input": "2024-01-06T11:32:12.944784Z",
     "iopub.status.busy": "2024-01-06T11:32:12.944239Z",
     "iopub.status.idle": "2024-01-06T11:32:13.446728Z",
     "shell.execute_reply": "2024-01-06T11:32:13.445462Z"
    },
    "papermill": {
     "duration": 0.523498,
     "end_time": "2024-01-06T11:32:13.450222",
     "exception": false,
     "start_time": "2024-01-06T11:32:12.926724",
     "status": "completed"
    },
    "tags": []
   },
   "outputs": [],
   "source": [
    "import numpy as np\n",
    "import pandas as pd"
   ]
  },
  {
   "cell_type": "code",
   "execution_count": 2,
   "id": "76b3edce",
   "metadata": {
    "execution": {
     "iopub.execute_input": "2024-01-06T11:32:13.482626Z",
     "iopub.status.busy": "2024-01-06T11:32:13.481924Z",
     "iopub.status.idle": "2024-01-06T11:32:13.527260Z",
     "shell.execute_reply": "2024-01-06T11:32:13.525968Z"
    },
    "papermill": {
     "duration": 0.065166,
     "end_time": "2024-01-06T11:32:13.530386",
     "exception": false,
     "start_time": "2024-01-06T11:32:13.465220",
     "status": "completed"
    },
    "tags": []
   },
   "outputs": [],
   "source": [
    "movie_data = pd.read_csv(\"/kaggle/input/movierec/movies.csv\")"
   ]
  },
  {
   "cell_type": "code",
   "execution_count": 3,
   "id": "9b4bcaf4",
   "metadata": {
    "execution": {
     "iopub.execute_input": "2024-01-06T11:32:13.562781Z",
     "iopub.status.busy": "2024-01-06T11:32:13.561829Z",
     "iopub.status.idle": "2024-01-06T11:32:13.592050Z",
     "shell.execute_reply": "2024-01-06T11:32:13.590835Z"
    },
    "papermill": {
     "duration": 0.050019,
     "end_time": "2024-01-06T11:32:13.595224",
     "exception": false,
     "start_time": "2024-01-06T11:32:13.545205",
     "status": "completed"
    },
    "tags": []
   },
   "outputs": [
    {
     "data": {
      "text/html": [
       "<div>\n",
       "<style scoped>\n",
       "    .dataframe tbody tr th:only-of-type {\n",
       "        vertical-align: middle;\n",
       "    }\n",
       "\n",
       "    .dataframe tbody tr th {\n",
       "        vertical-align: top;\n",
       "    }\n",
       "\n",
       "    .dataframe thead th {\n",
       "        text-align: right;\n",
       "    }\n",
       "</style>\n",
       "<table border=\"1\" class=\"dataframe\">\n",
       "  <thead>\n",
       "    <tr style=\"text-align: right;\">\n",
       "      <th></th>\n",
       "      <th>movieId</th>\n",
       "      <th>title</th>\n",
       "      <th>genres</th>\n",
       "    </tr>\n",
       "  </thead>\n",
       "  <tbody>\n",
       "    <tr>\n",
       "      <th>0</th>\n",
       "      <td>1</td>\n",
       "      <td>Toy Story (1995)</td>\n",
       "      <td>Adventure|Animation|Children|Comedy|Fantasy</td>\n",
       "    </tr>\n",
       "    <tr>\n",
       "      <th>1</th>\n",
       "      <td>2</td>\n",
       "      <td>Jumanji (1995)</td>\n",
       "      <td>Adventure|Children|Fantasy</td>\n",
       "    </tr>\n",
       "    <tr>\n",
       "      <th>2</th>\n",
       "      <td>3</td>\n",
       "      <td>Grumpier Old Men (1995)</td>\n",
       "      <td>Comedy|Romance</td>\n",
       "    </tr>\n",
       "    <tr>\n",
       "      <th>3</th>\n",
       "      <td>4</td>\n",
       "      <td>Waiting to Exhale (1995)</td>\n",
       "      <td>Comedy|Drama|Romance</td>\n",
       "    </tr>\n",
       "    <tr>\n",
       "      <th>4</th>\n",
       "      <td>5</td>\n",
       "      <td>Father of the Bride Part II (1995)</td>\n",
       "      <td>Comedy</td>\n",
       "    </tr>\n",
       "    <tr>\n",
       "      <th>...</th>\n",
       "      <td>...</td>\n",
       "      <td>...</td>\n",
       "      <td>...</td>\n",
       "    </tr>\n",
       "    <tr>\n",
       "      <th>9737</th>\n",
       "      <td>193581</td>\n",
       "      <td>Black Butler: Book of the Atlantic (2017)</td>\n",
       "      <td>Action|Animation|Comedy|Fantasy</td>\n",
       "    </tr>\n",
       "    <tr>\n",
       "      <th>9738</th>\n",
       "      <td>193583</td>\n",
       "      <td>No Game No Life: Zero (2017)</td>\n",
       "      <td>Animation|Comedy|Fantasy</td>\n",
       "    </tr>\n",
       "    <tr>\n",
       "      <th>9739</th>\n",
       "      <td>193585</td>\n",
       "      <td>Flint (2017)</td>\n",
       "      <td>Drama</td>\n",
       "    </tr>\n",
       "    <tr>\n",
       "      <th>9740</th>\n",
       "      <td>193587</td>\n",
       "      <td>Bungo Stray Dogs: Dead Apple (2018)</td>\n",
       "      <td>Action|Animation</td>\n",
       "    </tr>\n",
       "    <tr>\n",
       "      <th>9741</th>\n",
       "      <td>193609</td>\n",
       "      <td>Andrew Dice Clay: Dice Rules (1991)</td>\n",
       "      <td>Comedy</td>\n",
       "    </tr>\n",
       "  </tbody>\n",
       "</table>\n",
       "<p>9742 rows × 3 columns</p>\n",
       "</div>"
      ],
      "text/plain": [
       "      movieId                                      title  \\\n",
       "0           1                           Toy Story (1995)   \n",
       "1           2                             Jumanji (1995)   \n",
       "2           3                    Grumpier Old Men (1995)   \n",
       "3           4                   Waiting to Exhale (1995)   \n",
       "4           5         Father of the Bride Part II (1995)   \n",
       "...       ...                                        ...   \n",
       "9737   193581  Black Butler: Book of the Atlantic (2017)   \n",
       "9738   193583               No Game No Life: Zero (2017)   \n",
       "9739   193585                               Flint (2017)   \n",
       "9740   193587        Bungo Stray Dogs: Dead Apple (2018)   \n",
       "9741   193609        Andrew Dice Clay: Dice Rules (1991)   \n",
       "\n",
       "                                           genres  \n",
       "0     Adventure|Animation|Children|Comedy|Fantasy  \n",
       "1                      Adventure|Children|Fantasy  \n",
       "2                                  Comedy|Romance  \n",
       "3                            Comedy|Drama|Romance  \n",
       "4                                          Comedy  \n",
       "...                                           ...  \n",
       "9737              Action|Animation|Comedy|Fantasy  \n",
       "9738                     Animation|Comedy|Fantasy  \n",
       "9739                                        Drama  \n",
       "9740                             Action|Animation  \n",
       "9741                                       Comedy  \n",
       "\n",
       "[9742 rows x 3 columns]"
      ]
     },
     "execution_count": 3,
     "metadata": {},
     "output_type": "execute_result"
    }
   ],
   "source": [
    "movie_data"
   ]
  },
  {
   "cell_type": "code",
   "execution_count": 4,
   "id": "a755742a",
   "metadata": {
    "execution": {
     "iopub.execute_input": "2024-01-06T11:32:13.627428Z",
     "iopub.status.busy": "2024-01-06T11:32:13.626907Z",
     "iopub.status.idle": "2024-01-06T11:32:13.634277Z",
     "shell.execute_reply": "2024-01-06T11:32:13.633440Z"
    },
    "papermill": {
     "duration": 0.026863,
     "end_time": "2024-01-06T11:32:13.637085",
     "exception": false,
     "start_time": "2024-01-06T11:32:13.610222",
     "status": "completed"
    },
    "tags": []
   },
   "outputs": [
    {
     "data": {
      "text/plain": [
       "(9742, 3)"
      ]
     },
     "execution_count": 4,
     "metadata": {},
     "output_type": "execute_result"
    }
   ],
   "source": [
    "movie_data.shape"
   ]
  },
  {
   "cell_type": "code",
   "execution_count": 5,
   "id": "f7f406ab",
   "metadata": {
    "execution": {
     "iopub.execute_input": "2024-01-06T11:32:13.670301Z",
     "iopub.status.busy": "2024-01-06T11:32:13.669278Z",
     "iopub.status.idle": "2024-01-06T11:32:13.772107Z",
     "shell.execute_reply": "2024-01-06T11:32:13.771086Z"
    },
    "papermill": {
     "duration": 0.122573,
     "end_time": "2024-01-06T11:32:13.775128",
     "exception": false,
     "start_time": "2024-01-06T11:32:13.652555",
     "status": "completed"
    },
    "tags": []
   },
   "outputs": [],
   "source": [
    "rating_data=pd.read_csv(\"/kaggle/input/movierec/ratings.csv\")"
   ]
  },
  {
   "cell_type": "code",
   "execution_count": 6,
   "id": "995c1bd8",
   "metadata": {
    "execution": {
     "iopub.execute_input": "2024-01-06T11:32:13.809865Z",
     "iopub.status.busy": "2024-01-06T11:32:13.809030Z",
     "iopub.status.idle": "2024-01-06T11:32:13.816413Z",
     "shell.execute_reply": "2024-01-06T11:32:13.815249Z"
    },
    "papermill": {
     "duration": 0.027632,
     "end_time": "2024-01-06T11:32:13.818691",
     "exception": false,
     "start_time": "2024-01-06T11:32:13.791059",
     "status": "completed"
    },
    "tags": []
   },
   "outputs": [
    {
     "data": {
      "text/plain": [
       "(100836, 4)"
      ]
     },
     "execution_count": 6,
     "metadata": {},
     "output_type": "execute_result"
    }
   ],
   "source": [
    "rating_data.shape"
   ]
  },
  {
   "cell_type": "code",
   "execution_count": 7,
   "id": "053422db",
   "metadata": {
    "execution": {
     "iopub.execute_input": "2024-01-06T11:32:13.852252Z",
     "iopub.status.busy": "2024-01-06T11:32:13.851266Z",
     "iopub.status.idle": "2024-01-06T11:32:13.874524Z",
     "shell.execute_reply": "2024-01-06T11:32:13.873309Z"
    },
    "papermill": {
     "duration": 0.043602,
     "end_time": "2024-01-06T11:32:13.877424",
     "exception": false,
     "start_time": "2024-01-06T11:32:13.833822",
     "status": "completed"
    },
    "tags": []
   },
   "outputs": [
    {
     "data": {
      "text/html": [
       "<div>\n",
       "<style scoped>\n",
       "    .dataframe tbody tr th:only-of-type {\n",
       "        vertical-align: middle;\n",
       "    }\n",
       "\n",
       "    .dataframe tbody tr th {\n",
       "        vertical-align: top;\n",
       "    }\n",
       "\n",
       "    .dataframe thead th {\n",
       "        text-align: right;\n",
       "    }\n",
       "</style>\n",
       "<table border=\"1\" class=\"dataframe\">\n",
       "  <thead>\n",
       "    <tr style=\"text-align: right;\">\n",
       "      <th></th>\n",
       "      <th>userId</th>\n",
       "      <th>movieId</th>\n",
       "      <th>rating</th>\n",
       "      <th>timestamp</th>\n",
       "    </tr>\n",
       "  </thead>\n",
       "  <tbody>\n",
       "    <tr>\n",
       "      <th>0</th>\n",
       "      <td>1</td>\n",
       "      <td>1</td>\n",
       "      <td>4.0</td>\n",
       "      <td>964982703</td>\n",
       "    </tr>\n",
       "    <tr>\n",
       "      <th>1</th>\n",
       "      <td>1</td>\n",
       "      <td>3</td>\n",
       "      <td>4.0</td>\n",
       "      <td>964981247</td>\n",
       "    </tr>\n",
       "    <tr>\n",
       "      <th>2</th>\n",
       "      <td>1</td>\n",
       "      <td>6</td>\n",
       "      <td>4.0</td>\n",
       "      <td>964982224</td>\n",
       "    </tr>\n",
       "    <tr>\n",
       "      <th>3</th>\n",
       "      <td>1</td>\n",
       "      <td>47</td>\n",
       "      <td>5.0</td>\n",
       "      <td>964983815</td>\n",
       "    </tr>\n",
       "    <tr>\n",
       "      <th>4</th>\n",
       "      <td>1</td>\n",
       "      <td>50</td>\n",
       "      <td>5.0</td>\n",
       "      <td>964982931</td>\n",
       "    </tr>\n",
       "    <tr>\n",
       "      <th>...</th>\n",
       "      <td>...</td>\n",
       "      <td>...</td>\n",
       "      <td>...</td>\n",
       "      <td>...</td>\n",
       "    </tr>\n",
       "    <tr>\n",
       "      <th>100831</th>\n",
       "      <td>610</td>\n",
       "      <td>166534</td>\n",
       "      <td>4.0</td>\n",
       "      <td>1493848402</td>\n",
       "    </tr>\n",
       "    <tr>\n",
       "      <th>100832</th>\n",
       "      <td>610</td>\n",
       "      <td>168248</td>\n",
       "      <td>5.0</td>\n",
       "      <td>1493850091</td>\n",
       "    </tr>\n",
       "    <tr>\n",
       "      <th>100833</th>\n",
       "      <td>610</td>\n",
       "      <td>168250</td>\n",
       "      <td>5.0</td>\n",
       "      <td>1494273047</td>\n",
       "    </tr>\n",
       "    <tr>\n",
       "      <th>100834</th>\n",
       "      <td>610</td>\n",
       "      <td>168252</td>\n",
       "      <td>5.0</td>\n",
       "      <td>1493846352</td>\n",
       "    </tr>\n",
       "    <tr>\n",
       "      <th>100835</th>\n",
       "      <td>610</td>\n",
       "      <td>170875</td>\n",
       "      <td>3.0</td>\n",
       "      <td>1493846415</td>\n",
       "    </tr>\n",
       "  </tbody>\n",
       "</table>\n",
       "<p>100836 rows × 4 columns</p>\n",
       "</div>"
      ],
      "text/plain": [
       "        userId  movieId  rating   timestamp\n",
       "0            1        1     4.0   964982703\n",
       "1            1        3     4.0   964981247\n",
       "2            1        6     4.0   964982224\n",
       "3            1       47     5.0   964983815\n",
       "4            1       50     5.0   964982931\n",
       "...        ...      ...     ...         ...\n",
       "100831     610   166534     4.0  1493848402\n",
       "100832     610   168248     5.0  1493850091\n",
       "100833     610   168250     5.0  1494273047\n",
       "100834     610   168252     5.0  1493846352\n",
       "100835     610   170875     3.0  1493846415\n",
       "\n",
       "[100836 rows x 4 columns]"
      ]
     },
     "execution_count": 7,
     "metadata": {},
     "output_type": "execute_result"
    }
   ],
   "source": [
    "rating_data"
   ]
  },
  {
   "cell_type": "code",
   "execution_count": 8,
   "id": "e3efdb54",
   "metadata": {
    "execution": {
     "iopub.execute_input": "2024-01-06T11:32:13.911341Z",
     "iopub.status.busy": "2024-01-06T11:32:13.910882Z",
     "iopub.status.idle": "2024-01-06T11:32:13.923522Z",
     "shell.execute_reply": "2024-01-06T11:32:13.922326Z"
    },
    "papermill": {
     "duration": 0.033183,
     "end_time": "2024-01-06T11:32:13.926287",
     "exception": false,
     "start_time": "2024-01-06T11:32:13.893104",
     "status": "completed"
    },
    "tags": []
   },
   "outputs": [],
   "source": [
    "unique_user_ids = rating_data['userId'].nunique()"
   ]
  },
  {
   "cell_type": "code",
   "execution_count": 9,
   "id": "978bab69",
   "metadata": {
    "execution": {
     "iopub.execute_input": "2024-01-06T11:32:13.960281Z",
     "iopub.status.busy": "2024-01-06T11:32:13.959826Z",
     "iopub.status.idle": "2024-01-06T11:32:13.967036Z",
     "shell.execute_reply": "2024-01-06T11:32:13.966095Z"
    },
    "papermill": {
     "duration": 0.026993,
     "end_time": "2024-01-06T11:32:13.969376",
     "exception": false,
     "start_time": "2024-01-06T11:32:13.942383",
     "status": "completed"
    },
    "tags": []
   },
   "outputs": [
    {
     "data": {
      "text/plain": [
       "610"
      ]
     },
     "execution_count": 9,
     "metadata": {},
     "output_type": "execute_result"
    }
   ],
   "source": [
    "unique_user_ids"
   ]
  },
  {
   "cell_type": "code",
   "execution_count": 10,
   "id": "30a7c87d",
   "metadata": {
    "execution": {
     "iopub.execute_input": "2024-01-06T11:32:14.004310Z",
     "iopub.status.busy": "2024-01-06T11:32:14.003229Z",
     "iopub.status.idle": "2024-01-06T11:32:14.009801Z",
     "shell.execute_reply": "2024-01-06T11:32:14.008681Z"
    },
    "papermill": {
     "duration": 0.026716,
     "end_time": "2024-01-06T11:32:14.012311",
     "exception": false,
     "start_time": "2024-01-06T11:32:13.985595",
     "status": "completed"
    },
    "tags": []
   },
   "outputs": [
    {
     "name": "stdout",
     "output_type": "stream",
     "text": [
      "Number of unique userId values in ratings.csv: 610\n"
     ]
    }
   ],
   "source": [
    "print(\"Number of unique userId values in ratings.csv:\", unique_user_ids)"
   ]
  },
  {
   "cell_type": "code",
   "execution_count": 11,
   "id": "bdc75bab",
   "metadata": {
    "execution": {
     "iopub.execute_input": "2024-01-06T11:32:14.048028Z",
     "iopub.status.busy": "2024-01-06T11:32:14.047252Z",
     "iopub.status.idle": "2024-01-06T11:32:14.059564Z",
     "shell.execute_reply": "2024-01-06T11:32:14.058248Z"
    },
    "papermill": {
     "duration": 0.033707,
     "end_time": "2024-01-06T11:32:14.062618",
     "exception": false,
     "start_time": "2024-01-06T11:32:14.028911",
     "status": "completed"
    },
    "tags": []
   },
   "outputs": [],
   "source": [
    "movie_ratings_count = rating_data.groupby('movieId')['rating'].count()"
   ]
  },
  {
   "cell_type": "code",
   "execution_count": 12,
   "id": "46e57dab",
   "metadata": {
    "execution": {
     "iopub.execute_input": "2024-01-06T11:32:14.195921Z",
     "iopub.status.busy": "2024-01-06T11:32:14.194670Z",
     "iopub.status.idle": "2024-01-06T11:32:14.204500Z",
     "shell.execute_reply": "2024-01-06T11:32:14.203328Z"
    },
    "papermill": {
     "duration": 0.125967,
     "end_time": "2024-01-06T11:32:14.207078",
     "exception": false,
     "start_time": "2024-01-06T11:32:14.081111",
     "status": "completed"
    },
    "tags": []
   },
   "outputs": [
    {
     "data": {
      "text/plain": [
       "movieId\n",
       "1         215\n",
       "2         110\n",
       "3          52\n",
       "4           7\n",
       "5          49\n",
       "         ... \n",
       "193581      1\n",
       "193583      1\n",
       "193585      1\n",
       "193587      1\n",
       "193609      1\n",
       "Name: rating, Length: 9724, dtype: int64"
      ]
     },
     "execution_count": 12,
     "metadata": {},
     "output_type": "execute_result"
    }
   ],
   "source": [
    "movie_ratings_count"
   ]
  },
  {
   "cell_type": "code",
   "execution_count": 13,
   "id": "74f93a0f",
   "metadata": {
    "execution": {
     "iopub.execute_input": "2024-01-06T11:32:14.243193Z",
     "iopub.status.busy": "2024-01-06T11:32:14.242670Z",
     "iopub.status.idle": "2024-01-06T11:32:14.248908Z",
     "shell.execute_reply": "2024-01-06T11:32:14.247667Z"
    },
    "papermill": {
     "duration": 0.026934,
     "end_time": "2024-01-06T11:32:14.251436",
     "exception": false,
     "start_time": "2024-01-06T11:32:14.224502",
     "status": "completed"
    },
    "tags": []
   },
   "outputs": [],
   "source": [
    "max_rated_movie = movie_ratings_count.idxmax()"
   ]
  },
  {
   "cell_type": "code",
   "execution_count": 14,
   "id": "ccb1755c",
   "metadata": {
    "execution": {
     "iopub.execute_input": "2024-01-06T11:32:14.287381Z",
     "iopub.status.busy": "2024-01-06T11:32:14.286594Z",
     "iopub.status.idle": "2024-01-06T11:32:14.293227Z",
     "shell.execute_reply": "2024-01-06T11:32:14.291845Z"
    },
    "papermill": {
     "duration": 0.027577,
     "end_time": "2024-01-06T11:32:14.295674",
     "exception": false,
     "start_time": "2024-01-06T11:32:14.268097",
     "status": "completed"
    },
    "tags": []
   },
   "outputs": [
    {
     "name": "stdout",
     "output_type": "stream",
     "text": [
      "Movie with the maximum number of user ratings (movieId): 356\n"
     ]
    }
   ],
   "source": [
    "print(\"Movie with the maximum number of user ratings (movieId):\", max_rated_movie)"
   ]
  },
  {
   "cell_type": "code",
   "execution_count": 15,
   "id": "c1f6f49b",
   "metadata": {
    "execution": {
     "iopub.execute_input": "2024-01-06T11:32:14.333111Z",
     "iopub.status.busy": "2024-01-06T11:32:14.331831Z",
     "iopub.status.idle": "2024-01-06T11:32:14.348094Z",
     "shell.execute_reply": "2024-01-06T11:32:14.346540Z"
    },
    "papermill": {
     "duration": 0.038185,
     "end_time": "2024-01-06T11:32:14.351536",
     "exception": false,
     "start_time": "2024-01-06T11:32:14.313351",
     "status": "completed"
    },
    "tags": []
   },
   "outputs": [],
   "source": [
    "tags_data=pd.read_csv(\"/kaggle/input/movierec/tags.csv\")"
   ]
  },
  {
   "cell_type": "code",
   "execution_count": 16,
   "id": "d5f6fb64",
   "metadata": {
    "execution": {
     "iopub.execute_input": "2024-01-06T11:32:14.387457Z",
     "iopub.status.busy": "2024-01-06T11:32:14.386959Z",
     "iopub.status.idle": "2024-01-06T11:32:14.404623Z",
     "shell.execute_reply": "2024-01-06T11:32:14.403370Z"
    },
    "papermill": {
     "duration": 0.039301,
     "end_time": "2024-01-06T11:32:14.407612",
     "exception": false,
     "start_time": "2024-01-06T11:32:14.368311",
     "status": "completed"
    },
    "tags": []
   },
   "outputs": [
    {
     "data": {
      "text/html": [
       "<div>\n",
       "<style scoped>\n",
       "    .dataframe tbody tr th:only-of-type {\n",
       "        vertical-align: middle;\n",
       "    }\n",
       "\n",
       "    .dataframe tbody tr th {\n",
       "        vertical-align: top;\n",
       "    }\n",
       "\n",
       "    .dataframe thead th {\n",
       "        text-align: right;\n",
       "    }\n",
       "</style>\n",
       "<table border=\"1\" class=\"dataframe\">\n",
       "  <thead>\n",
       "    <tr style=\"text-align: right;\">\n",
       "      <th></th>\n",
       "      <th>userId</th>\n",
       "      <th>movieId</th>\n",
       "      <th>tag</th>\n",
       "      <th>timestamp</th>\n",
       "    </tr>\n",
       "  </thead>\n",
       "  <tbody>\n",
       "    <tr>\n",
       "      <th>0</th>\n",
       "      <td>2</td>\n",
       "      <td>60756</td>\n",
       "      <td>funny</td>\n",
       "      <td>1445714994</td>\n",
       "    </tr>\n",
       "    <tr>\n",
       "      <th>1</th>\n",
       "      <td>2</td>\n",
       "      <td>60756</td>\n",
       "      <td>Highly quotable</td>\n",
       "      <td>1445714996</td>\n",
       "    </tr>\n",
       "    <tr>\n",
       "      <th>2</th>\n",
       "      <td>2</td>\n",
       "      <td>60756</td>\n",
       "      <td>will ferrell</td>\n",
       "      <td>1445714992</td>\n",
       "    </tr>\n",
       "    <tr>\n",
       "      <th>3</th>\n",
       "      <td>2</td>\n",
       "      <td>89774</td>\n",
       "      <td>Boxing story</td>\n",
       "      <td>1445715207</td>\n",
       "    </tr>\n",
       "    <tr>\n",
       "      <th>4</th>\n",
       "      <td>2</td>\n",
       "      <td>89774</td>\n",
       "      <td>MMA</td>\n",
       "      <td>1445715200</td>\n",
       "    </tr>\n",
       "    <tr>\n",
       "      <th>...</th>\n",
       "      <td>...</td>\n",
       "      <td>...</td>\n",
       "      <td>...</td>\n",
       "      <td>...</td>\n",
       "    </tr>\n",
       "    <tr>\n",
       "      <th>3678</th>\n",
       "      <td>606</td>\n",
       "      <td>7382</td>\n",
       "      <td>for katie</td>\n",
       "      <td>1171234019</td>\n",
       "    </tr>\n",
       "    <tr>\n",
       "      <th>3679</th>\n",
       "      <td>606</td>\n",
       "      <td>7936</td>\n",
       "      <td>austere</td>\n",
       "      <td>1173392334</td>\n",
       "    </tr>\n",
       "    <tr>\n",
       "      <th>3680</th>\n",
       "      <td>610</td>\n",
       "      <td>3265</td>\n",
       "      <td>gun fu</td>\n",
       "      <td>1493843984</td>\n",
       "    </tr>\n",
       "    <tr>\n",
       "      <th>3681</th>\n",
       "      <td>610</td>\n",
       "      <td>3265</td>\n",
       "      <td>heroic bloodshed</td>\n",
       "      <td>1493843978</td>\n",
       "    </tr>\n",
       "    <tr>\n",
       "      <th>3682</th>\n",
       "      <td>610</td>\n",
       "      <td>168248</td>\n",
       "      <td>Heroic Bloodshed</td>\n",
       "      <td>1493844270</td>\n",
       "    </tr>\n",
       "  </tbody>\n",
       "</table>\n",
       "<p>3683 rows × 4 columns</p>\n",
       "</div>"
      ],
      "text/plain": [
       "      userId  movieId               tag   timestamp\n",
       "0          2    60756             funny  1445714994\n",
       "1          2    60756   Highly quotable  1445714996\n",
       "2          2    60756      will ferrell  1445714992\n",
       "3          2    89774      Boxing story  1445715207\n",
       "4          2    89774               MMA  1445715200\n",
       "...      ...      ...               ...         ...\n",
       "3678     606     7382         for katie  1171234019\n",
       "3679     606     7936           austere  1173392334\n",
       "3680     610     3265            gun fu  1493843984\n",
       "3681     610     3265  heroic bloodshed  1493843978\n",
       "3682     610   168248  Heroic Bloodshed  1493844270\n",
       "\n",
       "[3683 rows x 4 columns]"
      ]
     },
     "execution_count": 16,
     "metadata": {},
     "output_type": "execute_result"
    }
   ],
   "source": [
    "tags_data"
   ]
  },
  {
   "cell_type": "code",
   "execution_count": 17,
   "id": "e6e75d51",
   "metadata": {
    "execution": {
     "iopub.execute_input": "2024-01-06T11:32:14.445737Z",
     "iopub.status.busy": "2024-01-06T11:32:14.445231Z",
     "iopub.status.idle": "2024-01-06T11:32:14.454850Z",
     "shell.execute_reply": "2024-01-06T11:32:14.453581Z"
    },
    "papermill": {
     "duration": 0.03145,
     "end_time": "2024-01-06T11:32:14.457442",
     "exception": false,
     "start_time": "2024-01-06T11:32:14.425992",
     "status": "completed"
    },
    "tags": []
   },
   "outputs": [],
   "source": [
    "matrix_movie_id = movie_data[movie_data['title'] == 'Matrix, The (1999)']['movieId'].iloc[0]\n"
   ]
  },
  {
   "cell_type": "code",
   "execution_count": 18,
   "id": "8bd5988f",
   "metadata": {
    "execution": {
     "iopub.execute_input": "2024-01-06T11:32:14.494884Z",
     "iopub.status.busy": "2024-01-06T11:32:14.493905Z",
     "iopub.status.idle": "2024-01-06T11:32:14.501339Z",
     "shell.execute_reply": "2024-01-06T11:32:14.500040Z"
    },
    "papermill": {
     "duration": 0.0288,
     "end_time": "2024-01-06T11:32:14.503709",
     "exception": false,
     "start_time": "2024-01-06T11:32:14.474909",
     "status": "completed"
    },
    "tags": []
   },
   "outputs": [],
   "source": [
    "matrix_tags = tags_data[tags_data['movieId'] == matrix_movie_id]"
   ]
  },
  {
   "cell_type": "code",
   "execution_count": 19,
   "id": "4089cc39",
   "metadata": {
    "execution": {
     "iopub.execute_input": "2024-01-06T11:32:14.540178Z",
     "iopub.status.busy": "2024-01-06T11:32:14.539696Z",
     "iopub.status.idle": "2024-01-06T11:32:14.548319Z",
     "shell.execute_reply": "2024-01-06T11:32:14.546999Z"
    },
    "papermill": {
     "duration": 0.03025,
     "end_time": "2024-01-06T11:32:14.551267",
     "exception": false,
     "start_time": "2024-01-06T11:32:14.521017",
     "status": "completed"
    },
    "tags": []
   },
   "outputs": [
    {
     "name": "stdout",
     "output_type": "stream",
     "text": [
      "Tags for 'Matrix, The (1999)':\n",
      "      userId  movieId                 tag   timestamp\n",
      "815      424     2571        martial arts  1457842912\n",
      "816      424     2571              sci-fi  1457842899\n",
      "1646     474     2571  alternate universe  1137204991\n",
      "2794     537     2571          philosophy  1424141098\n",
      "2795     537     2571    post apocalyptic  1424141101\n"
     ]
    }
   ],
   "source": [
    "print(\"Tags for 'Matrix, The (1999)':\")\n",
    "print(matrix_tags)"
   ]
  },
  {
   "cell_type": "code",
   "execution_count": 20,
   "id": "7e9fc96f",
   "metadata": {
    "execution": {
     "iopub.execute_input": "2024-01-06T11:32:14.588117Z",
     "iopub.status.busy": "2024-01-06T11:32:14.587333Z",
     "iopub.status.idle": "2024-01-06T11:32:14.596545Z",
     "shell.execute_reply": "2024-01-06T11:32:14.595214Z"
    },
    "papermill": {
     "duration": 0.030296,
     "end_time": "2024-01-06T11:32:14.598977",
     "exception": false,
     "start_time": "2024-01-06T11:32:14.568681",
     "status": "completed"
    },
    "tags": []
   },
   "outputs": [],
   "source": [
    "terminator2_movie_id = movie_data[movie_data['title'] == 'Terminator 2: Judgment Day (1991)']['movieId'].iloc[0]"
   ]
  },
  {
   "cell_type": "code",
   "execution_count": 21,
   "id": "543303c3",
   "metadata": {
    "execution": {
     "iopub.execute_input": "2024-01-06T11:32:14.634351Z",
     "iopub.status.busy": "2024-01-06T11:32:14.633864Z",
     "iopub.status.idle": "2024-01-06T11:32:14.642069Z",
     "shell.execute_reply": "2024-01-06T11:32:14.640946Z"
    },
    "papermill": {
     "duration": 0.028927,
     "end_time": "2024-01-06T11:32:14.644588",
     "exception": false,
     "start_time": "2024-01-06T11:32:14.615661",
     "status": "completed"
    },
    "tags": []
   },
   "outputs": [],
   "source": [
    "terminator2_ratings = rating_data[rating_data['movieId'] == terminator2_movie_id]"
   ]
  },
  {
   "cell_type": "code",
   "execution_count": 22,
   "id": "010bc93a",
   "metadata": {
    "execution": {
     "iopub.execute_input": "2024-01-06T11:32:14.681171Z",
     "iopub.status.busy": "2024-01-06T11:32:14.679995Z",
     "iopub.status.idle": "2024-01-06T11:32:14.685402Z",
     "shell.execute_reply": "2024-01-06T11:32:14.684618Z"
    },
    "papermill": {
     "duration": 0.025741,
     "end_time": "2024-01-06T11:32:14.687624",
     "exception": false,
     "start_time": "2024-01-06T11:32:14.661883",
     "status": "completed"
    },
    "tags": []
   },
   "outputs": [],
   "source": [
    "average_rating = terminator2_ratings['rating'].mean()"
   ]
  },
  {
   "cell_type": "code",
   "execution_count": 23,
   "id": "2de72867",
   "metadata": {
    "execution": {
     "iopub.execute_input": "2024-01-06T11:32:14.723839Z",
     "iopub.status.busy": "2024-01-06T11:32:14.723014Z",
     "iopub.status.idle": "2024-01-06T11:32:14.729049Z",
     "shell.execute_reply": "2024-01-06T11:32:14.727875Z"
    },
    "papermill": {
     "duration": 0.027383,
     "end_time": "2024-01-06T11:32:14.731733",
     "exception": false,
     "start_time": "2024-01-06T11:32:14.704350",
     "status": "completed"
    },
    "tags": []
   },
   "outputs": [
    {
     "name": "stdout",
     "output_type": "stream",
     "text": [
      "Average user rating for 'Terminator 2: Judgment Day (1991)': 3.970982142857143\n"
     ]
    }
   ],
   "source": [
    "print(\"Average user rating for 'Terminator 2: Judgment Day (1991)':\", average_rating)"
   ]
  },
  {
   "cell_type": "code",
   "execution_count": 24,
   "id": "87255cd5",
   "metadata": {
    "execution": {
     "iopub.execute_input": "2024-01-06T11:32:14.768471Z",
     "iopub.status.busy": "2024-01-06T11:32:14.767622Z",
     "iopub.status.idle": "2024-01-06T11:32:14.773131Z",
     "shell.execute_reply": "2024-01-06T11:32:14.772281Z"
    },
    "papermill": {
     "duration": 0.026358,
     "end_time": "2024-01-06T11:32:14.775523",
     "exception": false,
     "start_time": "2024-01-06T11:32:14.749165",
     "status": "completed"
    },
    "tags": []
   },
   "outputs": [],
   "source": [
    "import matplotlib.pyplot as plt"
   ]
  },
  {
   "cell_type": "code",
   "execution_count": 25,
   "id": "2fb4446a",
   "metadata": {
    "execution": {
     "iopub.execute_input": "2024-01-06T11:32:14.813600Z",
     "iopub.status.busy": "2024-01-06T11:32:14.812146Z",
     "iopub.status.idle": "2024-01-06T11:32:14.822044Z",
     "shell.execute_reply": "2024-01-06T11:32:14.820981Z"
    },
    "papermill": {
     "duration": 0.032413,
     "end_time": "2024-01-06T11:32:14.824739",
     "exception": false,
     "start_time": "2024-01-06T11:32:14.792326",
     "status": "completed"
    },
    "tags": []
   },
   "outputs": [],
   "source": [
    "fight_club_movie_id = movie_data[movie_data['title'] == 'Fight Club (1999)']['movieId'].iloc[0]"
   ]
  },
  {
   "cell_type": "code",
   "execution_count": 26,
   "id": "5a41afc2",
   "metadata": {
    "execution": {
     "iopub.execute_input": "2024-01-06T11:32:14.861404Z",
     "iopub.status.busy": "2024-01-06T11:32:14.860060Z",
     "iopub.status.idle": "2024-01-06T11:32:14.868146Z",
     "shell.execute_reply": "2024-01-06T11:32:14.866887Z"
    },
    "papermill": {
     "duration": 0.028874,
     "end_time": "2024-01-06T11:32:14.870579",
     "exception": false,
     "start_time": "2024-01-06T11:32:14.841705",
     "status": "completed"
    },
    "tags": []
   },
   "outputs": [],
   "source": [
    "fight_club_ratings = rating_data[rating_data['movieId'] == fight_club_movie_id]"
   ]
  },
  {
   "cell_type": "code",
   "execution_count": 27,
   "id": "fa1b0f35",
   "metadata": {
    "execution": {
     "iopub.execute_input": "2024-01-06T11:32:14.906790Z",
     "iopub.status.busy": "2024-01-06T11:32:14.906242Z",
     "iopub.status.idle": "2024-01-06T11:32:15.271073Z",
     "shell.execute_reply": "2024-01-06T11:32:15.269646Z"
    },
    "papermill": {
     "duration": 0.386482,
     "end_time": "2024-01-06T11:32:15.274086",
     "exception": false,
     "start_time": "2024-01-06T11:32:14.887604",
     "status": "completed"
    },
    "tags": []
   },
   "outputs": [
    {
     "data": {
      "image/png": "[encoded data removed]",
      "text/plain": [
       "<Figure size 1000x600 with 1 Axes>"
      ]
     },
     "metadata": {},
     "output_type": "display_data"
    }
   ],
   "source": [
    "plt.figure(figsize=(10, 6))\n",
    "plt.hist(fight_club_ratings['rating'], bins=5, edgecolor='black', alpha=0.7)\n",
    "plt.title('Distribution of User Ratings for \"Fight Club (1999)\"')\n",
    "plt.xlabel('Rating')\n",
    "plt.ylabel('Number of Users')\n",
    "plt.grid(axis='y', linestyle='--', alpha=0.7)\n",
    "plt.show()"
   ]
  },
  {
   "cell_type": "code",
   "execution_count": 28,
   "id": "9438907c",
   "metadata": {
    "execution": {
     "iopub.execute_input": "2024-01-06T11:32:15.313087Z",
     "iopub.status.busy": "2024-01-06T11:32:15.312620Z",
     "iopub.status.idle": "2024-01-06T11:32:15.337433Z",
     "shell.execute_reply": "2024-01-06T11:32:15.336258Z"
    },
    "papermill": {
     "duration": 0.048243,
     "end_time": "2024-01-06T11:32:15.340847",
     "exception": false,
     "start_time": "2024-01-06T11:32:15.292604",
     "status": "completed"
    },
    "tags": []
   },
   "outputs": [],
   "source": [
    "\n",
    "# Step 1: Group user ratings based on movieId and apply aggregation operations\n",
    "grouped_ratings = rating_data.groupby('movieId').agg({'rating': ['count', 'mean']}).reset_index()\n",
    "grouped_ratings.columns = ['movieId', 'rating_count', 'rating_mean']\n"
   ]
  },
  {
   "cell_type": "code",
   "execution_count": 29,
   "id": "58e1d815",
   "metadata": {
    "execution": {
     "iopub.execute_input": "2024-01-06T11:32:15.380053Z",
     "iopub.status.busy": "2024-01-06T11:32:15.378566Z",
     "iopub.status.idle": "2024-01-06T11:32:15.399505Z",
     "shell.execute_reply": "2024-01-06T11:32:15.398301Z"
    },
    "papermill": {
     "duration": 0.043472,
     "end_time": "2024-01-06T11:32:15.402650",
     "exception": false,
     "start_time": "2024-01-06T11:32:15.359178",
     "status": "completed"
    },
    "tags": []
   },
   "outputs": [],
   "source": [
    "# Step 2: Apply inner join on dataframes created from movies.csv and the grouped df from step 1\n",
    "merged_data = pd.merge(movie_data, grouped_ratings, on='movieId', how='inner')"
   ]
  },
  {
   "cell_type": "code",
   "execution_count": 30,
   "id": "22b32bf1",
   "metadata": {
    "execution": {
     "iopub.execute_input": "2024-01-06T11:32:15.442001Z",
     "iopub.status.busy": "2024-01-06T11:32:15.441464Z",
     "iopub.status.idle": "2024-01-06T11:32:15.459600Z",
     "shell.execute_reply": "2024-01-06T11:32:15.458300Z"
    },
    "papermill": {
     "duration": 0.040296,
     "end_time": "2024-01-06T11:32:15.462310",
     "exception": false,
     "start_time": "2024-01-06T11:32:15.422014",
     "status": "completed"
    },
    "tags": []
   },
   "outputs": [
    {
     "data": {
      "text/html": [
       "<div>\n",
       "<style scoped>\n",
       "    .dataframe tbody tr th:only-of-type {\n",
       "        vertical-align: middle;\n",
       "    }\n",
       "\n",
       "    .dataframe tbody tr th {\n",
       "        vertical-align: top;\n",
       "    }\n",
       "\n",
       "    .dataframe thead th {\n",
       "        text-align: right;\n",
       "    }\n",
       "</style>\n",
       "<table border=\"1\" class=\"dataframe\">\n",
       "  <thead>\n",
       "    <tr style=\"text-align: right;\">\n",
       "      <th></th>\n",
       "      <th>movieId</th>\n",
       "      <th>title</th>\n",
       "      <th>genres</th>\n",
       "      <th>rating_count</th>\n",
       "      <th>rating_mean</th>\n",
       "    </tr>\n",
       "  </thead>\n",
       "  <tbody>\n",
       "    <tr>\n",
       "      <th>0</th>\n",
       "      <td>1</td>\n",
       "      <td>Toy Story (1995)</td>\n",
       "      <td>Adventure|Animation|Children|Comedy|Fantasy</td>\n",
       "      <td>215</td>\n",
       "      <td>3.920930</td>\n",
       "    </tr>\n",
       "    <tr>\n",
       "      <th>1</th>\n",
       "      <td>2</td>\n",
       "      <td>Jumanji (1995)</td>\n",
       "      <td>Adventure|Children|Fantasy</td>\n",
       "      <td>110</td>\n",
       "      <td>3.431818</td>\n",
       "    </tr>\n",
       "    <tr>\n",
       "      <th>2</th>\n",
       "      <td>3</td>\n",
       "      <td>Grumpier Old Men (1995)</td>\n",
       "      <td>Comedy|Romance</td>\n",
       "      <td>52</td>\n",
       "      <td>3.259615</td>\n",
       "    </tr>\n",
       "    <tr>\n",
       "      <th>3</th>\n",
       "      <td>4</td>\n",
       "      <td>Waiting to Exhale (1995)</td>\n",
       "      <td>Comedy|Drama|Romance</td>\n",
       "      <td>7</td>\n",
       "      <td>2.357143</td>\n",
       "    </tr>\n",
       "    <tr>\n",
       "      <th>4</th>\n",
       "      <td>5</td>\n",
       "      <td>Father of the Bride Part II (1995)</td>\n",
       "      <td>Comedy</td>\n",
       "      <td>49</td>\n",
       "      <td>3.071429</td>\n",
       "    </tr>\n",
       "    <tr>\n",
       "      <th>...</th>\n",
       "      <td>...</td>\n",
       "      <td>...</td>\n",
       "      <td>...</td>\n",
       "      <td>...</td>\n",
       "      <td>...</td>\n",
       "    </tr>\n",
       "    <tr>\n",
       "      <th>9719</th>\n",
       "      <td>193581</td>\n",
       "      <td>Black Butler: Book of the Atlantic (2017)</td>\n",
       "      <td>Action|Animation|Comedy|Fantasy</td>\n",
       "      <td>1</td>\n",
       "      <td>4.000000</td>\n",
       "    </tr>\n",
       "    <tr>\n",
       "      <th>9720</th>\n",
       "      <td>193583</td>\n",
       "      <td>No Game No Life: Zero (2017)</td>\n",
       "      <td>Animation|Comedy|Fantasy</td>\n",
       "      <td>1</td>\n",
       "      <td>3.500000</td>\n",
       "    </tr>\n",
       "    <tr>\n",
       "      <th>9721</th>\n",
       "      <td>193585</td>\n",
       "      <td>Flint (2017)</td>\n",
       "      <td>Drama</td>\n",
       "      <td>1</td>\n",
       "      <td>3.500000</td>\n",
       "    </tr>\n",
       "    <tr>\n",
       "      <th>9722</th>\n",
       "      <td>193587</td>\n",
       "      <td>Bungo Stray Dogs: Dead Apple (2018)</td>\n",
       "      <td>Action|Animation</td>\n",
       "      <td>1</td>\n",
       "      <td>3.500000</td>\n",
       "    </tr>\n",
       "    <tr>\n",
       "      <th>9723</th>\n",
       "      <td>193609</td>\n",
       "      <td>Andrew Dice Clay: Dice Rules (1991)</td>\n",
       "      <td>Comedy</td>\n",
       "      <td>1</td>\n",
       "      <td>4.000000</td>\n",
       "    </tr>\n",
       "  </tbody>\n",
       "</table>\n",
       "<p>9724 rows × 5 columns</p>\n",
       "</div>"
      ],
      "text/plain": [
       "      movieId                                      title  \\\n",
       "0           1                           Toy Story (1995)   \n",
       "1           2                             Jumanji (1995)   \n",
       "2           3                    Grumpier Old Men (1995)   \n",
       "3           4                   Waiting to Exhale (1995)   \n",
       "4           5         Father of the Bride Part II (1995)   \n",
       "...       ...                                        ...   \n",
       "9719   193581  Black Butler: Book of the Atlantic (2017)   \n",
       "9720   193583               No Game No Life: Zero (2017)   \n",
       "9721   193585                               Flint (2017)   \n",
       "9722   193587        Bungo Stray Dogs: Dead Apple (2018)   \n",
       "9723   193609        Andrew Dice Clay: Dice Rules (1991)   \n",
       "\n",
       "                                           genres  rating_count  rating_mean  \n",
       "0     Adventure|Animation|Children|Comedy|Fantasy           215     3.920930  \n",
       "1                      Adventure|Children|Fantasy           110     3.431818  \n",
       "2                                  Comedy|Romance            52     3.259615  \n",
       "3                            Comedy|Drama|Romance             7     2.357143  \n",
       "4                                          Comedy            49     3.071429  \n",
       "...                                           ...           ...          ...  \n",
       "9719              Action|Animation|Comedy|Fantasy             1     4.000000  \n",
       "9720                     Animation|Comedy|Fantasy             1     3.500000  \n",
       "9721                                        Drama             1     3.500000  \n",
       "9722                             Action|Animation             1     3.500000  \n",
       "9723                                       Comedy             1     4.000000  \n",
       "\n",
       "[9724 rows x 5 columns]"
      ]
     },
     "execution_count": 30,
     "metadata": {},
     "output_type": "execute_result"
    }
   ],
   "source": [
    "merged_data"
   ]
  },
  {
   "cell_type": "code",
   "execution_count": 31,
   "id": "b6537b70",
   "metadata": {
    "execution": {
     "iopub.execute_input": "2024-01-06T11:32:15.500385Z",
     "iopub.status.busy": "2024-01-06T11:32:15.499878Z",
     "iopub.status.idle": "2024-01-06T11:32:15.507690Z",
     "shell.execute_reply": "2024-01-06T11:32:15.506703Z"
    },
    "papermill": {
     "duration": 0.030133,
     "end_time": "2024-01-06T11:32:15.510314",
     "exception": false,
     "start_time": "2024-01-06T11:32:15.480181",
     "status": "completed"
    },
    "tags": []
   },
   "outputs": [],
   "source": [
    "# Step 3: Filter only those movies which have more than 50 user ratings\n",
    "filtered_data = merged_data[merged_data['rating_count'] > 50]"
   ]
  },
  {
   "cell_type": "code",
   "execution_count": 32,
   "id": "be150d4e",
   "metadata": {
    "execution": {
     "iopub.execute_input": "2024-01-06T11:32:15.549388Z",
     "iopub.status.busy": "2024-01-06T11:32:15.548094Z",
     "iopub.status.idle": "2024-01-06T11:32:15.562844Z",
     "shell.execute_reply": "2024-01-06T11:32:15.561573Z"
    },
    "papermill": {
     "duration": 0.037104,
     "end_time": "2024-01-06T11:32:15.565446",
     "exception": false,
     "start_time": "2024-01-06T11:32:15.528342",
     "status": "completed"
    },
    "tags": []
   },
   "outputs": [
    {
     "data": {
      "text/html": [
       "<div>\n",
       "<style scoped>\n",
       "    .dataframe tbody tr th:only-of-type {\n",
       "        vertical-align: middle;\n",
       "    }\n",
       "\n",
       "    .dataframe tbody tr th {\n",
       "        vertical-align: top;\n",
       "    }\n",
       "\n",
       "    .dataframe thead th {\n",
       "        text-align: right;\n",
       "    }\n",
       "</style>\n",
       "<table border=\"1\" class=\"dataframe\">\n",
       "  <thead>\n",
       "    <tr style=\"text-align: right;\">\n",
       "      <th></th>\n",
       "      <th>movieId</th>\n",
       "      <th>title</th>\n",
       "      <th>genres</th>\n",
       "      <th>rating_count</th>\n",
       "      <th>rating_mean</th>\n",
       "    </tr>\n",
       "  </thead>\n",
       "  <tbody>\n",
       "    <tr>\n",
       "      <th>0</th>\n",
       "      <td>1</td>\n",
       "      <td>Toy Story (1995)</td>\n",
       "      <td>Adventure|Animation|Children|Comedy|Fantasy</td>\n",
       "      <td>215</td>\n",
       "      <td>3.920930</td>\n",
       "    </tr>\n",
       "    <tr>\n",
       "      <th>1</th>\n",
       "      <td>2</td>\n",
       "      <td>Jumanji (1995)</td>\n",
       "      <td>Adventure|Children|Fantasy</td>\n",
       "      <td>110</td>\n",
       "      <td>3.431818</td>\n",
       "    </tr>\n",
       "    <tr>\n",
       "      <th>2</th>\n",
       "      <td>3</td>\n",
       "      <td>Grumpier Old Men (1995)</td>\n",
       "      <td>Comedy|Romance</td>\n",
       "      <td>52</td>\n",
       "      <td>3.259615</td>\n",
       "    </tr>\n",
       "    <tr>\n",
       "      <th>5</th>\n",
       "      <td>6</td>\n",
       "      <td>Heat (1995)</td>\n",
       "      <td>Action|Crime|Thriller</td>\n",
       "      <td>102</td>\n",
       "      <td>3.946078</td>\n",
       "    </tr>\n",
       "    <tr>\n",
       "      <th>6</th>\n",
       "      <td>7</td>\n",
       "      <td>Sabrina (1995)</td>\n",
       "      <td>Comedy|Romance</td>\n",
       "      <td>54</td>\n",
       "      <td>3.185185</td>\n",
       "    </tr>\n",
       "  </tbody>\n",
       "</table>\n",
       "</div>"
      ],
      "text/plain": [
       "   movieId                    title  \\\n",
       "0        1         Toy Story (1995)   \n",
       "1        2           Jumanji (1995)   \n",
       "2        3  Grumpier Old Men (1995)   \n",
       "5        6              Heat (1995)   \n",
       "6        7           Sabrina (1995)   \n",
       "\n",
       "                                        genres  rating_count  rating_mean  \n",
       "0  Adventure|Animation|Children|Comedy|Fantasy           215     3.920930  \n",
       "1                   Adventure|Children|Fantasy           110     3.431818  \n",
       "2                               Comedy|Romance            52     3.259615  \n",
       "5                        Action|Crime|Thriller           102     3.946078  \n",
       "6                               Comedy|Romance            54     3.185185  "
      ]
     },
     "execution_count": 32,
     "metadata": {},
     "output_type": "execute_result"
    }
   ],
   "source": [
    "filtered_data.head()"
   ]
  },
  {
   "cell_type": "code",
   "execution_count": 33,
   "id": "b16046eb",
   "metadata": {
    "execution": {
     "iopub.execute_input": "2024-01-06T11:32:15.604699Z",
     "iopub.status.busy": "2024-01-06T11:32:15.603884Z",
     "iopub.status.idle": "2024-01-06T11:32:15.620829Z",
     "shell.execute_reply": "2024-01-06T11:32:15.619550Z"
    },
    "papermill": {
     "duration": 0.040166,
     "end_time": "2024-01-06T11:32:15.623573",
     "exception": false,
     "start_time": "2024-01-06T11:32:15.583407",
     "status": "completed"
    },
    "tags": []
   },
   "outputs": [
    {
     "data": {
      "text/html": [
       "<div>\n",
       "<style scoped>\n",
       "    .dataframe tbody tr th:only-of-type {\n",
       "        vertical-align: middle;\n",
       "    }\n",
       "\n",
       "    .dataframe tbody tr th {\n",
       "        vertical-align: top;\n",
       "    }\n",
       "\n",
       "    .dataframe thead th {\n",
       "        text-align: right;\n",
       "    }\n",
       "</style>\n",
       "<table border=\"1\" class=\"dataframe\">\n",
       "  <thead>\n",
       "    <tr style=\"text-align: right;\">\n",
       "      <th></th>\n",
       "      <th>movieId</th>\n",
       "      <th>title</th>\n",
       "      <th>genres</th>\n",
       "      <th>rating_count</th>\n",
       "      <th>rating_mean</th>\n",
       "    </tr>\n",
       "  </thead>\n",
       "  <tbody>\n",
       "    <tr>\n",
       "      <th>0</th>\n",
       "      <td>1</td>\n",
       "      <td>Toy Story (1995)</td>\n",
       "      <td>Adventure|Animation|Children|Comedy|Fantasy</td>\n",
       "      <td>215</td>\n",
       "      <td>3.920930</td>\n",
       "    </tr>\n",
       "    <tr>\n",
       "      <th>1</th>\n",
       "      <td>2</td>\n",
       "      <td>Jumanji (1995)</td>\n",
       "      <td>Adventure|Children|Fantasy</td>\n",
       "      <td>110</td>\n",
       "      <td>3.431818</td>\n",
       "    </tr>\n",
       "    <tr>\n",
       "      <th>2</th>\n",
       "      <td>3</td>\n",
       "      <td>Grumpier Old Men (1995)</td>\n",
       "      <td>Comedy|Romance</td>\n",
       "      <td>52</td>\n",
       "      <td>3.259615</td>\n",
       "    </tr>\n",
       "    <tr>\n",
       "      <th>5</th>\n",
       "      <td>6</td>\n",
       "      <td>Heat (1995)</td>\n",
       "      <td>Action|Crime|Thriller</td>\n",
       "      <td>102</td>\n",
       "      <td>3.946078</td>\n",
       "    </tr>\n",
       "    <tr>\n",
       "      <th>6</th>\n",
       "      <td>7</td>\n",
       "      <td>Sabrina (1995)</td>\n",
       "      <td>Comedy|Romance</td>\n",
       "      <td>54</td>\n",
       "      <td>3.185185</td>\n",
       "    </tr>\n",
       "    <tr>\n",
       "      <th>...</th>\n",
       "      <td>...</td>\n",
       "      <td>...</td>\n",
       "      <td>...</td>\n",
       "      <td>...</td>\n",
       "      <td>...</td>\n",
       "    </tr>\n",
       "    <tr>\n",
       "      <th>8287</th>\n",
       "      <td>106782</td>\n",
       "      <td>Wolf of Wall Street, The (2013)</td>\n",
       "      <td>Comedy|Crime|Drama</td>\n",
       "      <td>54</td>\n",
       "      <td>3.916667</td>\n",
       "    </tr>\n",
       "    <tr>\n",
       "      <th>8354</th>\n",
       "      <td>109374</td>\n",
       "      <td>Grand Budapest Hotel, The (2014)</td>\n",
       "      <td>Comedy|Drama</td>\n",
       "      <td>52</td>\n",
       "      <td>3.778846</td>\n",
       "    </tr>\n",
       "    <tr>\n",
       "      <th>8358</th>\n",
       "      <td>109487</td>\n",
       "      <td>Interstellar (2014)</td>\n",
       "      <td>Sci-Fi|IMAX</td>\n",
       "      <td>73</td>\n",
       "      <td>3.993151</td>\n",
       "    </tr>\n",
       "    <tr>\n",
       "      <th>8457</th>\n",
       "      <td>112852</td>\n",
       "      <td>Guardians of the Galaxy (2014)</td>\n",
       "      <td>Action|Adventure|Sci-Fi</td>\n",
       "      <td>59</td>\n",
       "      <td>4.050847</td>\n",
       "    </tr>\n",
       "    <tr>\n",
       "      <th>8673</th>\n",
       "      <td>122904</td>\n",
       "      <td>Deadpool (2016)</td>\n",
       "      <td>Action|Adventure|Comedy|Sci-Fi</td>\n",
       "      <td>54</td>\n",
       "      <td>3.833333</td>\n",
       "    </tr>\n",
       "  </tbody>\n",
       "</table>\n",
       "<p>436 rows × 5 columns</p>\n",
       "</div>"
      ],
      "text/plain": [
       "      movieId                             title  \\\n",
       "0           1                  Toy Story (1995)   \n",
       "1           2                    Jumanji (1995)   \n",
       "2           3           Grumpier Old Men (1995)   \n",
       "5           6                       Heat (1995)   \n",
       "6           7                    Sabrina (1995)   \n",
       "...       ...                               ...   \n",
       "8287   106782   Wolf of Wall Street, The (2013)   \n",
       "8354   109374  Grand Budapest Hotel, The (2014)   \n",
       "8358   109487               Interstellar (2014)   \n",
       "8457   112852    Guardians of the Galaxy (2014)   \n",
       "8673   122904                   Deadpool (2016)   \n",
       "\n",
       "                                           genres  rating_count  rating_mean  \n",
       "0     Adventure|Animation|Children|Comedy|Fantasy           215     3.920930  \n",
       "1                      Adventure|Children|Fantasy           110     3.431818  \n",
       "2                                  Comedy|Romance            52     3.259615  \n",
       "5                           Action|Crime|Thriller           102     3.946078  \n",
       "6                                  Comedy|Romance            54     3.185185  \n",
       "...                                           ...           ...          ...  \n",
       "8287                           Comedy|Crime|Drama            54     3.916667  \n",
       "8354                                 Comedy|Drama            52     3.778846  \n",
       "8358                                  Sci-Fi|IMAX            73     3.993151  \n",
       "8457                      Action|Adventure|Sci-Fi            59     4.050847  \n",
       "8673               Action|Adventure|Comedy|Sci-Fi            54     3.833333  \n",
       "\n",
       "[436 rows x 5 columns]"
      ]
     },
     "execution_count": 33,
     "metadata": {},
     "output_type": "execute_result"
    }
   ],
   "source": [
    "filtered_data"
   ]
  },
  {
   "cell_type": "code",
   "execution_count": 34,
   "id": "22540ace",
   "metadata": {
    "execution": {
     "iopub.execute_input": "2024-01-06T11:32:15.663357Z",
     "iopub.status.busy": "2024-01-06T11:32:15.662247Z",
     "iopub.status.idle": "2024-01-06T11:32:15.669803Z",
     "shell.execute_reply": "2024-01-06T11:32:15.668817Z"
    },
    "papermill": {
     "duration": 0.030682,
     "end_time": "2024-01-06T11:32:15.672644",
     "exception": false,
     "start_time": "2024-01-06T11:32:15.641962",
     "status": "completed"
    },
    "tags": []
   },
   "outputs": [],
   "source": [
    "most_popular_movie = filtered_data[filtered_data['rating_mean'] == filtered_data['rating_mean'].max()]"
   ]
  },
  {
   "cell_type": "code",
   "execution_count": 35,
   "id": "0a022965",
   "metadata": {
    "execution": {
     "iopub.execute_input": "2024-01-06T11:32:15.712638Z",
     "iopub.status.busy": "2024-01-06T11:32:15.711855Z",
     "iopub.status.idle": "2024-01-06T11:32:15.721803Z",
     "shell.execute_reply": "2024-01-06T11:32:15.720623Z"
    },
    "papermill": {
     "duration": 0.033413,
     "end_time": "2024-01-06T11:32:15.724624",
     "exception": false,
     "start_time": "2024-01-06T11:32:15.691211",
     "status": "completed"
    },
    "tags": []
   },
   "outputs": [
    {
     "name": "stdout",
     "output_type": "stream",
     "text": [
      "Most popular movie based on average user ratings:\n",
      "                                title  rating_mean\n",
      "277  Shawshank Redemption, The (1994)     4.429022\n"
     ]
    }
   ],
   "source": [
    "print(\"Most popular movie based on average user ratings:\")\n",
    "print(most_popular_movie[['title', 'rating_mean']])"
   ]
  },
  {
   "cell_type": "code",
   "execution_count": 36,
   "id": "5bf21acf",
   "metadata": {
    "execution": {
     "iopub.execute_input": "2024-01-06T11:32:15.764106Z",
     "iopub.status.busy": "2024-01-06T11:32:15.763637Z",
     "iopub.status.idle": "2024-01-06T11:32:15.770743Z",
     "shell.execute_reply": "2024-01-06T11:32:15.769663Z"
    },
    "papermill": {
     "duration": 0.030016,
     "end_time": "2024-01-06T11:32:15.773191",
     "exception": false,
     "start_time": "2024-01-06T11:32:15.743175",
     "status": "completed"
    },
    "tags": []
   },
   "outputs": [],
   "source": [
    "top_movies_by_rating_count = filtered_data.sort_values(by='rating_count', ascending=False)"
   ]
  },
  {
   "cell_type": "code",
   "execution_count": 37,
   "id": "3842c3bc",
   "metadata": {
    "execution": {
     "iopub.execute_input": "2024-01-06T11:32:15.813782Z",
     "iopub.status.busy": "2024-01-06T11:32:15.812454Z",
     "iopub.status.idle": "2024-01-06T11:32:15.818702Z",
     "shell.execute_reply": "2024-01-06T11:32:15.817524Z"
    },
    "papermill": {
     "duration": 0.029757,
     "end_time": "2024-01-06T11:32:15.821736",
     "exception": false,
     "start_time": "2024-01-06T11:32:15.791979",
     "status": "completed"
    },
    "tags": []
   },
   "outputs": [],
   "source": [
    "top_5_movies = top_movies_by_rating_count.head(5)"
   ]
  },
  {
   "cell_type": "code",
   "execution_count": 38,
   "id": "312a6f6d",
   "metadata": {
    "execution": {
     "iopub.execute_input": "2024-01-06T11:32:15.863995Z",
     "iopub.status.busy": "2024-01-06T11:32:15.863066Z",
     "iopub.status.idle": "2024-01-06T11:32:15.873231Z",
     "shell.execute_reply": "2024-01-06T11:32:15.871534Z"
    },
    "papermill": {
     "duration": 0.0341,
     "end_time": "2024-01-06T11:32:15.875865",
     "exception": false,
     "start_time": "2024-01-06T11:32:15.841765",
     "status": "completed"
    },
    "tags": []
   },
   "outputs": [
    {
     "name": "stdout",
     "output_type": "stream",
     "text": [
      "Top 5 popular movies based on number of user ratings:\n",
      "                                 title  rating_count\n",
      "314                Forrest Gump (1994)           329\n",
      "277   Shawshank Redemption, The (1994)           317\n",
      "257                Pulp Fiction (1994)           307\n",
      "510   Silence of the Lambs, The (1991)           279\n",
      "1938                Matrix, The (1999)           278\n"
     ]
    }
   ],
   "source": [
    "print(\"Top 5 popular movies based on number of user ratings:\")\n",
    "print(top_5_movies[['title', 'rating_count']])"
   ]
  },
  {
   "cell_type": "code",
   "execution_count": 39,
   "id": "667d72d6",
   "metadata": {
    "execution": {
     "iopub.execute_input": "2024-01-06T11:32:15.916599Z",
     "iopub.status.busy": "2024-01-06T11:32:15.916060Z",
     "iopub.status.idle": "2024-01-06T11:32:15.924371Z",
     "shell.execute_reply": "2024-01-06T11:32:15.923077Z"
    },
    "papermill": {
     "duration": 0.031541,
     "end_time": "2024-01-06T11:32:15.926764",
     "exception": false,
     "start_time": "2024-01-06T11:32:15.895223",
     "status": "completed"
    },
    "tags": []
   },
   "outputs": [],
   "source": [
    "sci_fi_movies = filtered_data[filtered_data['genres'].str.contains('Sci-Fi')]"
   ]
  },
  {
   "cell_type": "code",
   "execution_count": 40,
   "id": "3f1a63ee",
   "metadata": {
    "execution": {
     "iopub.execute_input": "2024-01-06T11:32:15.968091Z",
     "iopub.status.busy": "2024-01-06T11:32:15.967544Z",
     "iopub.status.idle": "2024-01-06T11:32:15.975191Z",
     "shell.execute_reply": "2024-01-06T11:32:15.974139Z"
    },
    "papermill": {
     "duration": 0.031614,
     "end_time": "2024-01-06T11:32:15.977399",
     "exception": false,
     "start_time": "2024-01-06T11:32:15.945785",
     "status": "completed"
    },
    "tags": []
   },
   "outputs": [],
   "source": [
    "sorted_sci_fi_movies = sci_fi_movies.sort_values(by='rating_count', ascending=False)"
   ]
  },
  {
   "cell_type": "code",
   "execution_count": 41,
   "id": "672e5a04",
   "metadata": {
    "execution": {
     "iopub.execute_input": "2024-01-06T11:32:16.017541Z",
     "iopub.status.busy": "2024-01-06T11:32:16.016543Z",
     "iopub.status.idle": "2024-01-06T11:32:16.022403Z",
     "shell.execute_reply": "2024-01-06T11:32:16.021545Z"
    },
    "papermill": {
     "duration": 0.028587,
     "end_time": "2024-01-06T11:32:16.024779",
     "exception": false,
     "start_time": "2024-01-06T11:32:15.996192",
     "status": "completed"
    },
    "tags": []
   },
   "outputs": [],
   "source": [
    "third_most_popular_sci_fi_movie = sorted_sci_fi_movies.iloc[2]"
   ]
  },
  {
   "cell_type": "code",
   "execution_count": 42,
   "id": "fe90f8f9",
   "metadata": {
    "execution": {
     "iopub.execute_input": "2024-01-06T11:32:16.065537Z",
     "iopub.status.busy": "2024-01-06T11:32:16.064356Z",
     "iopub.status.idle": "2024-01-06T11:32:16.074154Z",
     "shell.execute_reply": "2024-01-06T11:32:16.073070Z"
    },
    "papermill": {
     "duration": 0.032596,
     "end_time": "2024-01-06T11:32:16.076505",
     "exception": false,
     "start_time": "2024-01-06T11:32:16.043909",
     "status": "completed"
    },
    "tags": []
   },
   "outputs": [
    {
     "name": "stdout",
     "output_type": "stream",
     "text": [
      "Third most popular Sci-Fi movie based on number of user ratings:\n",
      "title           Jurassic Park (1993)\n",
      "rating_count                     238\n",
      "Name: 418, dtype: object\n"
     ]
    }
   ],
   "source": [
    "print(\"Third most popular Sci-Fi movie based on number of user ratings:\")\n",
    "print(third_most_popular_sci_fi_movie[['title', 'rating_count']])"
   ]
  },
  {
   "cell_type": "code",
   "execution_count": 43,
   "id": "f870024d",
   "metadata": {
    "execution": {
     "iopub.execute_input": "2024-01-06T11:32:16.117569Z",
     "iopub.status.busy": "2024-01-06T11:32:16.116644Z",
     "iopub.status.idle": "2024-01-06T11:32:31.983498Z",
     "shell.execute_reply": "2024-01-06T11:32:31.981850Z"
    },
    "papermill": {
     "duration": 15.890941,
     "end_time": "2024-01-06T11:32:31.986514",
     "exception": false,
     "start_time": "2024-01-06T11:32:16.095573",
     "status": "completed"
    },
    "tags": []
   },
   "outputs": [
    {
     "name": "stdout",
     "output_type": "stream",
     "text": [
      "Requirement already satisfied: requests in /opt/conda/lib/python3.10/site-packages (2.31.0)\r\n",
      "Requirement already satisfied: beautifulsoup4 in /opt/conda/lib/python3.10/site-packages (4.12.2)\r\n",
      "Requirement already satisfied: charset-normalizer<4,>=2 in /opt/conda/lib/python3.10/site-packages (from requests) (3.2.0)\r\n",
      "Requirement already satisfied: idna<4,>=2.5 in /opt/conda/lib/python3.10/site-packages (from requests) (3.4)\r\n",
      "Requirement already satisfied: urllib3<3,>=1.21.1 in /opt/conda/lib/python3.10/site-packages (from requests) (1.26.15)\r\n",
      "Requirement already satisfied: certifi>=2017.4.17 in /opt/conda/lib/python3.10/site-packages (from requests) (2023.11.17)\r\n",
      "Requirement already satisfied: soupsieve>1.2 in /opt/conda/lib/python3.10/site-packages (from beautifulsoup4) (2.3.2.post1)\r\n",
      "Note: you may need to restart the kernel to use updated packages.\n"
     ]
    }
   ],
   "source": [
    "pip install requests beautifulsoup4"
   ]
  },
  {
   "cell_type": "code",
   "execution_count": 44,
   "id": "026e55fb",
   "metadata": {
    "execution": {
     "iopub.execute_input": "2024-01-06T11:32:32.028505Z",
     "iopub.status.busy": "2024-01-06T11:32:32.027950Z",
     "iopub.status.idle": "2024-01-06T11:32:32.056517Z",
     "shell.execute_reply": "2024-01-06T11:32:32.055128Z"
    },
    "papermill": {
     "duration": 0.053089,
     "end_time": "2024-01-06T11:32:32.059609",
     "exception": false,
     "start_time": "2024-01-06T11:32:32.006520",
     "status": "completed"
    },
    "tags": []
   },
   "outputs": [],
   "source": [
    "links_data=pd.read_csv(\"/kaggle/input/movierec/links.csv\")"
   ]
  },
  {
   "cell_type": "code",
   "execution_count": 45,
   "id": "fac6eba8",
   "metadata": {
    "execution": {
     "iopub.execute_input": "2024-01-06T11:32:32.102646Z",
     "iopub.status.busy": "2024-01-06T11:32:32.102104Z",
     "iopub.status.idle": "2024-01-06T11:32:32.414140Z",
     "shell.execute_reply": "2024-01-06T11:32:32.412988Z"
    },
    "papermill": {
     "duration": 0.337449,
     "end_time": "2024-01-06T11:32:32.417136",
     "exception": false,
     "start_time": "2024-01-06T11:32:32.079687",
     "status": "completed"
    },
    "tags": []
   },
   "outputs": [],
   "source": [
    "import requests\n",
    "import numpy as np\n",
    "from bs4 import BeautifulSoup\n",
    "\n",
    "def scrapper(imdbId):\n",
    "    id = str(int(imdbId))\n",
    "    n_zeroes = 7 - len(id)\n",
    "    new_id = \"0\"*n_zeroes + id\n",
    "    URL = f\"https://www.imdb.com/title/tt{new_id}/\"\n",
    "    request_header = {'Content-Type': 'text/html; charset=UTF-8', \n",
    "                      'User-Agent': 'Mozilla/5.0 (Windows NT 10.0; Win64; x64; rv:109.0) Gecko/20100101 Firefox/119.0', \n",
    "                      'Accept-Encoding': 'gzip, deflate, br'}\n",
    "    response = requests.get(URL, headers=request_header)  # FILL_IN_THE_BLANK: Replace with 'get'\n",
    "    soup = BeautifulSoup(response.text, 'html.parser')  # FILL_IN_THE_BLANK: Replace with 'BeautifulSoup'\n",
    "    imdb_rating = soup.find('span', attrs={'data-testid': 'hero-rating-bar__score'})  # FILL_IN_THE_BLANK: Replace with 'span'\n",
    "    return imdb_rating.text if imdb_rating else np.nan\n"
   ]
  },
  {
   "cell_type": "code",
   "execution_count": null,
   "id": "6f8a126f",
   "metadata": {
    "papermill": {
     "duration": 0.018464,
     "end_time": "2024-01-06T11:32:32.455168",
     "exception": false,
     "start_time": "2024-01-06T11:32:32.436704",
     "status": "completed"
    },
    "tags": []
   },
   "outputs": [],
   "source": []
  }
 ],
 "metadata": {
  "kaggle": {
   "accelerator": "none",
   "dataSources": [
    {
     "datasetId": 4266871,
     "sourceId": 7348082,
     "sourceType": "datasetVersion"
    }
   ],
   "dockerImageVersionId": 30626,
   "isGpuEnabled": false,
   "isInternetEnabled": true,
   "language": "python",
   "sourceType": "notebook"
  },
  "kernelspec": {
   "display_name": "Python 3",
   "language": "python",
   "name": "python3"
  },
  "language_info": {
   "codemirror_mode": {
    "name": "ipython",
    "version": 3
   },
   "file_extension": ".py",
   "mimetype": "text/x-python",
   "name": "python",
   "nbconvert_exporter": "python",
   "pygments_lexer": "ipython3",
   "version": "3.10.12"
  },
  "papermill": {
   "default_parameters": {},
   "duration": 24.105706,
   "end_time": "2024-01-06T11:32:33.299393",
   "environment_variables": {},
   "exception": null,
   "input_path": "__notebook__.ipynb",
   "output_path": "__notebook__.ipynb",
   "parameters": {},
   "start_time": "2024-01-06T11:32:09.193687",
   "version": "2.4.0"
  }
 },
 "nbformat": 4,
 "nbformat_minor": 5
}
